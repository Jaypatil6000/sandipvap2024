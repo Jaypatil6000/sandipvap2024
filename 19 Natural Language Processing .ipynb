{
 "cells": [
  {
   "cell_type": "code",
   "execution_count": 1,
   "id": "c651ce56",
   "metadata": {},
   "outputs": [],
   "source": [
    "# pip install nltk"
   ]
  },
  {
   "cell_type": "code",
   "execution_count": 2,
   "id": "36ae46c2",
   "metadata": {},
   "outputs": [],
   "source": [
    "import nltk"
   ]
  },
  {
   "cell_type": "code",
   "execution_count": 3,
   "id": "7e5c8838",
   "metadata": {},
   "outputs": [
    {
     "name": "stderr",
     "output_type": "stream",
     "text": [
      "[nltk_data] Downloading package punkt to\n",
      "[nltk_data]     C:\\Users\\jaypa\\AppData\\Roaming\\nltk_data...\n",
      "[nltk_data]   Package punkt is already up-to-date!\n",
      "[nltk_data] Downloading package averaged_perceptron_tagger to\n",
      "[nltk_data]     C:\\Users\\jaypa\\AppData\\Roaming\\nltk_data...\n",
      "[nltk_data]   Package averaged_perceptron_tagger is already up-to-\n",
      "[nltk_data]       date!\n",
      "[nltk_data] Downloading package stopwords to\n",
      "[nltk_data]     C:\\Users\\jaypa\\AppData\\Roaming\\nltk_data...\n",
      "[nltk_data]   Package stopwords is already up-to-date!\n",
      "[nltk_data] Downloading package wordnet to\n",
      "[nltk_data]     C:\\Users\\jaypa\\AppData\\Roaming\\nltk_data...\n",
      "[nltk_data]   Package wordnet is already up-to-date!\n",
      "[nltk_data] Downloading package omw-1.4 to\n",
      "[nltk_data]     C:\\Users\\jaypa\\AppData\\Roaming\\nltk_data...\n",
      "[nltk_data]   Package omw-1.4 is already up-to-date!\n"
     ]
    },
    {
     "data": {
      "text/plain": [
       "True"
      ]
     },
     "execution_count": 3,
     "metadata": {},
     "output_type": "execute_result"
    }
   ],
   "source": [
    "nltk.download('punkt')\n",
    "nltk.download('averaged_perceptron_tagger')\n",
    "nltk.download('stopwords')\n",
    "nltk.download('wordnet')\n",
    "nltk.download('omw-1.4')"
   ]
  },
  {
   "cell_type": "code",
   "execution_count": 4,
   "id": "98a5aa36",
   "metadata": {},
   "outputs": [],
   "source": [
    "sent = 'They told that their ages are 21 25 and 23 respectively.'"
   ]
  },
  {
   "cell_type": "markdown",
   "id": "8605cef5",
   "metadata": {},
   "source": [
    "# Find the average of ages mentioned in the sentence."
   ]
  },
  {
   "cell_type": "code",
   "execution_count": 5,
   "id": "7e49c87b",
   "metadata": {},
   "outputs": [
    {
     "data": {
      "text/plain": [
       "['They',\n",
       " 'told',\n",
       " 'that',\n",
       " 'their',\n",
       " 'ages',\n",
       " 'are',\n",
       " '21',\n",
       " '25',\n",
       " 'and',\n",
       " '23',\n",
       " 'respectively.']"
      ]
     },
     "execution_count": 5,
     "metadata": {},
     "output_type": "execute_result"
    }
   ],
   "source": [
    "sent.split()"
   ]
  },
  {
   "cell_type": "code",
   "execution_count": 6,
   "id": "42135937",
   "metadata": {},
   "outputs": [],
   "source": [
    "ages = []\n",
    "for n in sent.split():\n",
    "    if n.isdigit():\n",
    "        ages.append(int(n))"
   ]
  },
  {
   "cell_type": "code",
   "execution_count": 7,
   "id": "3646e445",
   "metadata": {},
   "outputs": [
    {
     "data": {
      "text/plain": [
       "23.0"
      ]
     },
     "execution_count": 7,
     "metadata": {},
     "output_type": "execute_result"
    }
   ],
   "source": [
    "sum(ages) / len(ages)"
   ]
  },
  {
   "cell_type": "code",
   "execution_count": 8,
   "id": "72f85cf9",
   "metadata": {},
   "outputs": [],
   "source": [
    "ages = [int(n) for n in sent.split() if n.isdigit()]"
   ]
  },
  {
   "cell_type": "markdown",
   "id": "7a350184",
   "metadata": {},
   "source": [
    "sum(ages) / len(ages)"
   ]
  },
  {
   "cell_type": "code",
   "execution_count": 9,
   "id": "644ae453",
   "metadata": {},
   "outputs": [
    {
     "data": {
      "text/plain": [
       "23.0"
      ]
     },
     "execution_count": 9,
     "metadata": {},
     "output_type": "execute_result"
    }
   ],
   "source": [
    "sum(ages) / len(ages)"
   ]
  },
  {
   "cell_type": "markdown",
   "id": "11781e7c",
   "metadata": {},
   "source": [
    "# Tokenization"
   ]
  },
  {
   "cell_type": "code",
   "execution_count": 10,
   "id": "c5fe8795",
   "metadata": {},
   "outputs": [],
   "source": [
    "from nltk.tokenize import word_tokenize, sent_tokenize"
   ]
  },
  {
   "cell_type": "code",
   "execution_count": 11,
   "id": "cbb15f16",
   "metadata": {},
   "outputs": [],
   "source": [
    "sent = 'Hello friends! How are you? I hope, you like Python Programming.'"
   ]
  },
  {
   "cell_type": "code",
   "execution_count": 12,
   "id": "066c0f9d",
   "metadata": {},
   "outputs": [
    {
     "data": {
      "text/plain": [
       "['Hello friends!', 'How are you?', 'I hope, you like Python Programming.']"
      ]
     },
     "execution_count": 12,
     "metadata": {},
     "output_type": "execute_result"
    }
   ],
   "source": [
    "sent_tokenize(sent)"
   ]
  },
  {
   "cell_type": "code",
   "execution_count": 13,
   "id": "58187dc6",
   "metadata": {},
   "outputs": [
    {
     "data": {
      "text/plain": [
       "['Hello',\n",
       " 'friends',\n",
       " '!',\n",
       " 'How',\n",
       " 'are',\n",
       " 'you',\n",
       " '?',\n",
       " 'I',\n",
       " 'hope',\n",
       " ',',\n",
       " 'you',\n",
       " 'like',\n",
       " 'Python',\n",
       " 'Programming',\n",
       " '.']"
      ]
     },
     "execution_count": 13,
     "metadata": {},
     "output_type": "execute_result"
    }
   ],
   "source": [
    "word_tokenize(sent)"
   ]
  },
  {
   "cell_type": "markdown",
   "id": "4fd9372d",
   "metadata": {},
   "source": [
    "# Punctuation symbol remover"
   ]
  },
  {
   "cell_type": "code",
   "execution_count": 14,
   "id": "f3083c53",
   "metadata": {},
   "outputs": [
    {
     "data": {
      "text/plain": [
       "'!\"#$%&\\'()*+,-./:;<=>?@[\\\\]^_`{|}~'"
      ]
     },
     "execution_count": 14,
     "metadata": {},
     "output_type": "execute_result"
    }
   ],
   "source": [
    "import string\n",
    "string.punctuation"
   ]
  },
  {
   "cell_type": "code",
   "execution_count": 15,
   "id": "18ae472d",
   "metadata": {},
   "outputs": [],
   "source": [
    "new = []\n",
    "for word in word_tokenize(sent):\n",
    "    if word not in string.punctuation:\n",
    "        new.append(word)"
   ]
  },
  {
   "cell_type": "code",
   "execution_count": 16,
   "id": "e6588b62",
   "metadata": {},
   "outputs": [
    {
     "data": {
      "text/plain": [
       "['Hello',\n",
       " 'friends',\n",
       " 'How',\n",
       " 'are',\n",
       " 'you',\n",
       " 'I',\n",
       " 'hope',\n",
       " 'you',\n",
       " 'like',\n",
       " 'Python',\n",
       " 'Programming']"
      ]
     },
     "execution_count": 16,
     "metadata": {},
     "output_type": "execute_result"
    }
   ],
   "source": [
    "new"
   ]
  },
  {
   "cell_type": "code",
   "execution_count": 17,
   "id": "5a87b509",
   "metadata": {},
   "outputs": [],
   "source": [
    "new= ' '.join(new)"
   ]
  },
  {
   "cell_type": "code",
   "execution_count": 18,
   "id": "38bf2966",
   "metadata": {},
   "outputs": [
    {
     "data": {
      "text/plain": [
       "'Hello friends How are you I hope you like Python Programming'"
      ]
     },
     "execution_count": 18,
     "metadata": {},
     "output_type": "execute_result"
    }
   ],
   "source": [
    "new"
   ]
  },
  {
   "cell_type": "markdown",
   "id": "3a4d5d9d",
   "metadata": {},
   "source": [
    "# Stopword Removal"
   ]
  },
  {
   "cell_type": "code",
   "execution_count": 19,
   "id": "0d390753",
   "metadata": {},
   "outputs": [],
   "source": [
    "from nltk.corpus import stopwords"
   ]
  },
  {
   "cell_type": "code",
   "execution_count": 20,
   "id": "cc57315b",
   "metadata": {},
   "outputs": [],
   "source": [
    "swords = stopwords. words('english')"
   ]
  },
  {
   "cell_type": "code",
   "execution_count": 21,
   "id": "cd3748f3",
   "metadata": {},
   "outputs": [
    {
     "data": {
      "text/plain": [
       "['i',\n",
       " 'me',\n",
       " 'my',\n",
       " 'myself',\n",
       " 'we',\n",
       " 'our',\n",
       " 'ours',\n",
       " 'ourselves',\n",
       " 'you',\n",
       " \"you're\",\n",
       " \"you've\",\n",
       " \"you'll\",\n",
       " \"you'd\",\n",
       " 'your',\n",
       " 'yours',\n",
       " 'yourself',\n",
       " 'yourselves',\n",
       " 'he',\n",
       " 'him',\n",
       " 'his',\n",
       " 'himself',\n",
       " 'she',\n",
       " \"she's\",\n",
       " 'her',\n",
       " 'hers',\n",
       " 'herself',\n",
       " 'it',\n",
       " \"it's\",\n",
       " 'its',\n",
       " 'itself',\n",
       " 'they',\n",
       " 'them',\n",
       " 'their',\n",
       " 'theirs',\n",
       " 'themselves',\n",
       " 'what',\n",
       " 'which',\n",
       " 'who',\n",
       " 'whom',\n",
       " 'this',\n",
       " 'that',\n",
       " \"that'll\",\n",
       " 'these',\n",
       " 'those',\n",
       " 'am',\n",
       " 'is',\n",
       " 'are',\n",
       " 'was',\n",
       " 'were',\n",
       " 'be',\n",
       " 'been',\n",
       " 'being',\n",
       " 'have',\n",
       " 'has',\n",
       " 'had',\n",
       " 'having',\n",
       " 'do',\n",
       " 'does',\n",
       " 'did',\n",
       " 'doing',\n",
       " 'a',\n",
       " 'an',\n",
       " 'the',\n",
       " 'and',\n",
       " 'but',\n",
       " 'if',\n",
       " 'or',\n",
       " 'because',\n",
       " 'as',\n",
       " 'until',\n",
       " 'while',\n",
       " 'of',\n",
       " 'at',\n",
       " 'by',\n",
       " 'for',\n",
       " 'with',\n",
       " 'about',\n",
       " 'against',\n",
       " 'between',\n",
       " 'into',\n",
       " 'through',\n",
       " 'during',\n",
       " 'before',\n",
       " 'after',\n",
       " 'above',\n",
       " 'below',\n",
       " 'to',\n",
       " 'from',\n",
       " 'up',\n",
       " 'down',\n",
       " 'in',\n",
       " 'out',\n",
       " 'on',\n",
       " 'off',\n",
       " 'over',\n",
       " 'under',\n",
       " 'again',\n",
       " 'further',\n",
       " 'then',\n",
       " 'once',\n",
       " 'here',\n",
       " 'there',\n",
       " 'when',\n",
       " 'where',\n",
       " 'why',\n",
       " 'how',\n",
       " 'all',\n",
       " 'any',\n",
       " 'both',\n",
       " 'each',\n",
       " 'few',\n",
       " 'more',\n",
       " 'most',\n",
       " 'other',\n",
       " 'some',\n",
       " 'such',\n",
       " 'no',\n",
       " 'nor',\n",
       " 'not',\n",
       " 'only',\n",
       " 'own',\n",
       " 'same',\n",
       " 'so',\n",
       " 'than',\n",
       " 'too',\n",
       " 'very',\n",
       " 's',\n",
       " 't',\n",
       " 'can',\n",
       " 'will',\n",
       " 'just',\n",
       " 'don',\n",
       " \"don't\",\n",
       " 'should',\n",
       " \"should've\",\n",
       " 'now',\n",
       " 'd',\n",
       " 'll',\n",
       " 'm',\n",
       " 'o',\n",
       " 're',\n",
       " 've',\n",
       " 'y',\n",
       " 'ain',\n",
       " 'aren',\n",
       " \"aren't\",\n",
       " 'couldn',\n",
       " \"couldn't\",\n",
       " 'didn',\n",
       " \"didn't\",\n",
       " 'doesn',\n",
       " \"doesn't\",\n",
       " 'hadn',\n",
       " \"hadn't\",\n",
       " 'hasn',\n",
       " \"hasn't\",\n",
       " 'haven',\n",
       " \"haven't\",\n",
       " 'isn',\n",
       " \"isn't\",\n",
       " 'ma',\n",
       " 'mightn',\n",
       " \"mightn't\",\n",
       " 'mustn',\n",
       " \"mustn't\",\n",
       " 'needn',\n",
       " \"needn't\",\n",
       " 'shan',\n",
       " \"shan't\",\n",
       " 'shouldn',\n",
       " \"shouldn't\",\n",
       " 'wasn',\n",
       " \"wasn't\",\n",
       " 'weren',\n",
       " \"weren't\",\n",
       " 'won',\n",
       " \"won't\",\n",
       " 'wouldn',\n",
       " \"wouldn't\"]"
      ]
     },
     "execution_count": 21,
     "metadata": {},
     "output_type": "execute_result"
    }
   ],
   "source": [
    "swords"
   ]
  },
  {
   "cell_type": "code",
   "execution_count": 22,
   "id": "91b85941",
   "metadata": {},
   "outputs": [],
   "source": [
    "clean = []\n",
    "for word in word_tokenize(new):\n",
    "    if word.lower() not in swords:\n",
    "        clean.append(word)"
   ]
  },
  {
   "cell_type": "code",
   "execution_count": 23,
   "id": "3e95cd90",
   "metadata": {},
   "outputs": [
    {
     "data": {
      "text/plain": [
       "['Hello', 'friends', 'hope', 'like', 'Python', 'Programming']"
      ]
     },
     "execution_count": 23,
     "metadata": {},
     "output_type": "execute_result"
    }
   ],
   "source": [
    "clean"
   ]
  },
  {
   "cell_type": "code",
   "execution_count": 24,
   "id": "9496132f",
   "metadata": {},
   "outputs": [
    {
     "data": {
      "text/plain": [
       "['Hello', 'friends', 'How', 'I', 'hope', 'like', 'Python', 'Programming']"
      ]
     },
     "execution_count": 24,
     "metadata": {},
     "output_type": "execute_result"
    }
   ],
   "source": [
    "clean = [word for word in word_tokenize(new) if word not in swords]\n",
    "clean"
   ]
  },
  {
   "cell_type": "code",
   "execution_count": 25,
   "id": "3464c646",
   "metadata": {},
   "outputs": [
    {
     "data": {
      "text/plain": [
       "['Hello', 'friends', 'hope', 'like', 'Python', 'Programming']"
      ]
     },
     "execution_count": 25,
     "metadata": {},
     "output_type": "execute_result"
    }
   ],
   "source": [
    "clean = [word for word in word_tokenize(new) if word.lower() not in swords]\n",
    "clean"
   ]
  },
  {
   "cell_type": "markdown",
   "id": "3d5b4005",
   "metadata": {},
   "source": [
    "# Porter Stemmer"
   ]
  },
  {
   "cell_type": "code",
   "execution_count": 26,
   "id": "0f8b9950",
   "metadata": {},
   "outputs": [],
   "source": [
    "words1 = 'plays' , ' player', 'players','playing','played'\n",
    "words2 = 'go','gone','going','went'\n",
    "words3 = 'association','associated','associate','associatinng'\n",
    "words4 = 'bad','worse','worst','better'"
   ]
  },
  {
   "cell_type": "code",
   "execution_count": 27,
   "id": "b1015f87",
   "metadata": {},
   "outputs": [
    {
     "data": {
      "text/plain": [
       "('plays', ' player', 'players', 'playing', 'played')"
      ]
     },
     "execution_count": 27,
     "metadata": {},
     "output_type": "execute_result"
    }
   ],
   "source": [
    "words1"
   ]
  },
  {
   "cell_type": "code",
   "execution_count": 28,
   "id": "a2e04619",
   "metadata": {},
   "outputs": [],
   "source": [
    "from nltk.stem import PorterStemmer"
   ]
  },
  {
   "cell_type": "code",
   "execution_count": 29,
   "id": "7afc55d2",
   "metadata": {},
   "outputs": [],
   "source": [
    "ps = PorterStemmer()"
   ]
  },
  {
   "cell_type": "code",
   "execution_count": 30,
   "id": "a1bc1977",
   "metadata": {},
   "outputs": [
    {
     "data": {
      "text/plain": [
       "'play'"
      ]
     },
     "execution_count": 30,
     "metadata": {},
     "output_type": "execute_result"
    }
   ],
   "source": [
    "ps.stem(words1[0])"
   ]
  },
  {
   "cell_type": "code",
   "execution_count": 31,
   "id": "693fa98b",
   "metadata": {},
   "outputs": [
    {
     "data": {
      "text/plain": [
       "'go'"
      ]
     },
     "execution_count": 31,
     "metadata": {},
     "output_type": "execute_result"
    }
   ],
   "source": [
    "ps.stem(words2[2])"
   ]
  },
  {
   "cell_type": "code",
   "execution_count": 32,
   "id": "a2245d5d",
   "metadata": {},
   "outputs": [
    {
     "name": "stdout",
     "output_type": "stream",
     "text": [
      "play\n",
      " player\n",
      "player\n",
      "play\n",
      "play\n"
     ]
    }
   ],
   "source": [
    "for word in words1:\n",
    "    print(ps.stem(word))"
   ]
  },
  {
   "cell_type": "code",
   "execution_count": 33,
   "id": "47b6241b",
   "metadata": {},
   "outputs": [
    {
     "name": "stdout",
     "output_type": "stream",
     "text": [
      "go\n",
      "gone\n",
      "go\n",
      "went\n"
     ]
    }
   ],
   "source": [
    "for word in words2:\n",
    "    print(ps.stem(word))"
   ]
  },
  {
   "cell_type": "code",
   "execution_count": 34,
   "id": "0bba86ee",
   "metadata": {},
   "outputs": [
    {
     "name": "stdout",
     "output_type": "stream",
     "text": [
      "associ\n",
      "associ\n",
      "associ\n",
      "associatinng\n"
     ]
    }
   ],
   "source": [
    "for word in words3:\n",
    "    print(ps.stem(word))"
   ]
  },
  {
   "cell_type": "code",
   "execution_count": 35,
   "id": "a90047fd",
   "metadata": {},
   "outputs": [
    {
     "name": "stdout",
     "output_type": "stream",
     "text": [
      "bad\n",
      "wors\n",
      "worst\n",
      "better\n"
     ]
    }
   ],
   "source": [
    "for word in words4:\n",
    "    print(ps.stem(word))"
   ]
  },
  {
   "cell_type": "markdown",
   "id": "fe699b1c",
   "metadata": {},
   "source": [
    "# Lancaster Stemmer"
   ]
  },
  {
   "cell_type": "code",
   "execution_count": 36,
   "id": "1aeb382c",
   "metadata": {},
   "outputs": [],
   "source": [
    "from nltk. stem import LancasterStemmer"
   ]
  },
  {
   "cell_type": "code",
   "execution_count": 37,
   "id": "bd989045",
   "metadata": {},
   "outputs": [],
   "source": [
    "ls = LancasterStemmer()"
   ]
  },
  {
   "cell_type": "code",
   "execution_count": 38,
   "id": "68a7b55e",
   "metadata": {},
   "outputs": [
    {
     "name": "stdout",
     "output_type": "stream",
     "text": [
      "play\n",
      " player\n",
      "play\n",
      "play\n",
      "play\n"
     ]
    }
   ],
   "source": [
    "for word in words1:\n",
    "    print(ls.stem(word))"
   ]
  },
  {
   "cell_type": "code",
   "execution_count": 39,
   "id": "a15b6747",
   "metadata": {},
   "outputs": [
    {
     "name": "stdout",
     "output_type": "stream",
     "text": [
      "assocy\n",
      "assocy\n",
      "assocy\n",
      "associatinng\n"
     ]
    }
   ],
   "source": [
    "for word in words3:\n",
    "    print(ls.stem(word))"
   ]
  },
  {
   "cell_type": "code",
   "execution_count": 40,
   "id": "96a9f964",
   "metadata": {},
   "outputs": [
    {
     "name": "stdout",
     "output_type": "stream",
     "text": [
      "go\n",
      "gon\n",
      "going\n",
      "went\n"
     ]
    }
   ],
   "source": [
    "for word in words2:\n",
    "    print(ls.stem(word))"
   ]
  },
  {
   "cell_type": "markdown",
   "id": "60dbaaab",
   "metadata": {},
   "source": [
    "# Lemmatization"
   ]
  },
  {
   "cell_type": "code",
   "execution_count": 41,
   "id": "5f408db2",
   "metadata": {},
   "outputs": [],
   "source": [
    "from nltk.stem import WordNetLemmatizer"
   ]
  },
  {
   "cell_type": "code",
   "execution_count": 42,
   "id": "c1bfe9c8",
   "metadata": {},
   "outputs": [],
   "source": [
    "wnl = WordNetLemmatizer()"
   ]
  },
  {
   "cell_type": "code",
   "execution_count": 43,
   "id": "e116b76d",
   "metadata": {},
   "outputs": [
    {
     "name": "stdout",
     "output_type": "stream",
     "text": [
      "Noun : player\n",
      "Verb : players\n",
      "Adjective : players\n",
      "Adverb : players\n"
     ]
    }
   ],
   "source": [
    "word = 'players'\n",
    "print('Noun :', wnl.lemmatize(word, pos = 'n'))\n",
    "print('Verb :', wnl.lemmatize(word, pos = 'v'))\n",
    "print('Adjective :', wnl.lemmatize(word, pos = 'a'))\n",
    "print('Adverb :', wnl.lemmatize(word, pos = 'r'))"
   ]
  },
  {
   "cell_type": "code",
   "execution_count": 44,
   "id": "b959423c",
   "metadata": {},
   "outputs": [
    {
     "name": "stdout",
     "output_type": "stream",
     "text": [
      "Noun : working\n",
      "Verb : work\n",
      "Adjective : working\n",
      "Adverb : working\n"
     ]
    }
   ],
   "source": [
    "word = 'working'\n",
    "print('Noun :', wnl.lemmatize(word, pos = 'n'))\n",
    "print('Verb :', wnl.lemmatize(word, pos = 'v'))\n",
    "print('Adjective :', wnl.lemmatize(word, pos = 'a'))\n",
    "print('Adverb :', wnl.lemmatize(word, pos = 'r'))"
   ]
  },
  {
   "cell_type": "code",
   "execution_count": 45,
   "id": "9a889abd",
   "metadata": {},
   "outputs": [
    {
     "name": "stdout",
     "output_type": "stream",
     "text": [
      "Noun : went\n",
      "Verb : go\n",
      "Adjective : went\n",
      "Adverb : went\n"
     ]
    }
   ],
   "source": [
    "word = 'went'\n",
    "print('Noun :', wnl.lemmatize(word, pos = 'n'))\n",
    "print('Verb :', wnl.lemmatize(word, pos = 'v'))\n",
    "print('Adjective :', wnl.lemmatize(word, pos = 'a'))\n",
    "print('Adverb :', wnl.lemmatize(word, pos = 'r'))"
   ]
  },
  {
   "cell_type": "code",
   "execution_count": 46,
   "id": "8f518f48",
   "metadata": {},
   "outputs": [
    {
     "name": "stdout",
     "output_type": "stream",
     "text": [
      "Noun : worst\n",
      "Verb : worst\n",
      "Adjective : bad\n",
      "Adverb : worst\n"
     ]
    }
   ],
   "source": [
    "word = 'worst'\n",
    "print('Noun :', wnl.lemmatize(word, pos = 'n'))\n",
    "print('Verb :', wnl.lemmatize(word, pos = 'v'))\n",
    "print('Adjective :', wnl.lemmatize(word, pos = 'a'))\n",
    "print('Adverb :', wnl.lemmatize(word, pos = 'r'))"
   ]
  },
  {
   "cell_type": "code",
   "execution_count": 47,
   "id": "6653345b",
   "metadata": {},
   "outputs": [
    {
     "name": "stdout",
     "output_type": "stream",
     "text": [
      "Noun : child\n",
      "Verb : children\n",
      "Adjective : children\n",
      "Adverb : children\n"
     ]
    }
   ],
   "source": [
    "word = 'children'\n",
    "print('Noun :', wnl.lemmatize(word, pos = 'n'))\n",
    "print('Verb :', wnl.lemmatize(word, pos = 'v'))\n",
    "print('Adjective :', wnl.lemmatize(word, pos = 'a'))\n",
    "print('Adverb :', wnl.lemmatize(word, pos = 'r'))"
   ]
  },
  {
   "cell_type": "code",
   "execution_count": 48,
   "id": "14e0e41f",
   "metadata": {},
   "outputs": [
    {
     "name": "stdout",
     "output_type": "stream",
     "text": [
      "Noun : ate\n",
      "Verb : eat\n",
      "Adjective : ate\n",
      "Adverb : ate\n"
     ]
    }
   ],
   "source": [
    "word = 'ate'\n",
    "print('Noun :', wnl.lemmatize(word, pos = 'n'))\n",
    "print('Verb :', wnl.lemmatize(word, pos = 'v'))\n",
    "print('Adjective :', wnl.lemmatize(word, pos = 'a'))\n",
    "print('Adverb :', wnl.lemmatize(word, pos = 'r'))"
   ]
  },
  {
   "cell_type": "code",
   "execution_count": 49,
   "id": "aafb1060",
   "metadata": {},
   "outputs": [
    {
     "name": "stdout",
     "output_type": "stream",
     "text": [
      "Noun : literally\n",
      "Verb : literally\n",
      "Adjective : literally\n",
      "Adverb : literally\n"
     ]
    }
   ],
   "source": [
    "word = 'literally'\n",
    "print('Noun :', wnl.lemmatize(word, pos = 'n'))\n",
    "print('Verb :', wnl.lemmatize(word, pos = 'v'))\n",
    "print('Adjective :', wnl.lemmatize(word, pos = 'a'))\n",
    "print('Adverb :', wnl.lemmatize(word, pos = 'r'))"
   ]
  },
  {
   "cell_type": "markdown",
   "id": "358582ea",
   "metadata": {},
   "source": [
    "# POS Tagging"
   ]
  },
  {
   "cell_type": "code",
   "execution_count": 55,
   "id": "87ac2f42",
   "metadata": {},
   "outputs": [],
   "source": [
    "sent = 'Hello ! How are you? I hope, you like Python programming.'"
   ]
  },
  {
   "cell_type": "code",
   "execution_count": 56,
   "id": "d9824540",
   "metadata": {},
   "outputs": [],
   "source": [
    "from nltk import pos_tag"
   ]
  },
  {
   "cell_type": "code",
   "execution_count": 57,
   "id": "df684dd2",
   "metadata": {},
   "outputs": [],
   "source": [
    "tags = pos_tag(word_tokenize(sent))"
   ]
  },
  {
   "cell_type": "code",
   "execution_count": 58,
   "id": "6e83fbf9",
   "metadata": {},
   "outputs": [
    {
     "data": {
      "text/plain": [
       "[('Hello', 'NN'),\n",
       " ('!', '.'),\n",
       " ('How', 'WRB'),\n",
       " ('are', 'VBP'),\n",
       " ('you', 'PRP'),\n",
       " ('?', '.'),\n",
       " ('I', 'PRP'),\n",
       " ('hope', 'VBP'),\n",
       " (',', ','),\n",
       " ('you', 'PRP'),\n",
       " ('like', 'VBP'),\n",
       " ('Python', 'NNP'),\n",
       " ('programming', 'NN'),\n",
       " ('.', '.')]"
      ]
     },
     "execution_count": 58,
     "metadata": {},
     "output_type": "execute_result"
    }
   ],
   "source": [
    "tags"
   ]
  },
  {
   "cell_type": "code",
   "execution_count": 59,
   "id": "2fad9896",
   "metadata": {},
   "outputs": [
    {
     "name": "stdout",
     "output_type": "stream",
     "text": [
      "Hello\n",
      "Python\n",
      "programming\n"
     ]
    }
   ],
   "source": [
    "for word, tag in tags:\n",
    "    if tag.startswith('N'):\n",
    "        print(word)"
   ]
  }
 ],
 "metadata": {
  "kernelspec": {
   "display_name": "Python 3 (ipykernel)",
   "language": "python",
   "name": "python3"
  },
  "language_info": {
   "codemirror_mode": {
    "name": "ipython",
    "version": 3
   },
   "file_extension": ".py",
   "mimetype": "text/x-python",
   "name": "python",
   "nbconvert_exporter": "python",
   "pygments_lexer": "ipython3",
   "version": "3.10.9"
  }
 },
 "nbformat": 4,
 "nbformat_minor": 5
}
