{
 "cells": [
  {
   "cell_type": "markdown",
   "id": "ac434153",
   "metadata": {},
   "source": [
    "# Dataset"
   ]
  },
  {
   "cell_type": "code",
   "execution_count": 1,
   "id": "900c62a3",
   "metadata": {},
   "outputs": [],
   "source": [
    "# Dataset: Social_Network_Ads.csv"
   ]
  },
  {
   "cell_type": "markdown",
   "id": "17e5d8dc",
   "metadata": {},
   "source": [
    "# Import the libraries"
   ]
  },
  {
   "cell_type": "code",
   "execution_count": 9,
   "id": "056a9391",
   "metadata": {},
   "outputs": [],
   "source": [
    "import numpy as np\n",
    "import matplotlib.pyplot as plt\n",
    "import pandas as pd\n",
    "import seaborn as sns"
   ]
  },
  {
   "cell_type": "markdown",
   "id": "90d12a24",
   "metadata": {},
   "source": [
    "# Read the data"
   ]
  },
  {
   "cell_type": "code",
   "execution_count": 10,
   "id": "6a4dcb0c",
   "metadata": {},
   "outputs": [],
   "source": [
    "df =pd.read_csv('Social_Network_Ads.csv')"
   ]
  },
  {
   "cell_type": "code",
   "execution_count": 11,
   "id": "adb2cf87",
   "metadata": {},
   "outputs": [
    {
     "data": {
      "text/html": [
       "<div>\n",
       "<style scoped>\n",
       "    .dataframe tbody tr th:only-of-type {\n",
       "        vertical-align: middle;\n",
       "    }\n",
       "\n",
       "    .dataframe tbody tr th {\n",
       "        vertical-align: top;\n",
       "    }\n",
       "\n",
       "    .dataframe thead th {\n",
       "        text-align: right;\n",
       "    }\n",
       "</style>\n",
       "<table border=\"1\" class=\"dataframe\">\n",
       "  <thead>\n",
       "    <tr style=\"text-align: right;\">\n",
       "      <th></th>\n",
       "      <th>User ID</th>\n",
       "      <th>Gender</th>\n",
       "      <th>Age</th>\n",
       "      <th>EstimatedSalary</th>\n",
       "      <th>Purchased</th>\n",
       "    </tr>\n",
       "  </thead>\n",
       "  <tbody>\n",
       "    <tr>\n",
       "      <th>0</th>\n",
       "      <td>15624510</td>\n",
       "      <td>Male</td>\n",
       "      <td>19.0</td>\n",
       "      <td>19000.0</td>\n",
       "      <td>0</td>\n",
       "    </tr>\n",
       "    <tr>\n",
       "      <th>1</th>\n",
       "      <td>15810944</td>\n",
       "      <td>Male</td>\n",
       "      <td>35.0</td>\n",
       "      <td>20000.0</td>\n",
       "      <td>0</td>\n",
       "    </tr>\n",
       "    <tr>\n",
       "      <th>2</th>\n",
       "      <td>15668575</td>\n",
       "      <td>Female</td>\n",
       "      <td>26.0</td>\n",
       "      <td>43000.0</td>\n",
       "      <td>0</td>\n",
       "    </tr>\n",
       "    <tr>\n",
       "      <th>3</th>\n",
       "      <td>15603246</td>\n",
       "      <td>Female</td>\n",
       "      <td>27.0</td>\n",
       "      <td>57000.0</td>\n",
       "      <td>0</td>\n",
       "    </tr>\n",
       "    <tr>\n",
       "      <th>4</th>\n",
       "      <td>15804002</td>\n",
       "      <td>Male</td>\n",
       "      <td>19.0</td>\n",
       "      <td>76000.0</td>\n",
       "      <td>0</td>\n",
       "    </tr>\n",
       "    <tr>\n",
       "      <th>...</th>\n",
       "      <td>...</td>\n",
       "      <td>...</td>\n",
       "      <td>...</td>\n",
       "      <td>...</td>\n",
       "      <td>...</td>\n",
       "    </tr>\n",
       "    <tr>\n",
       "      <th>395</th>\n",
       "      <td>15691863</td>\n",
       "      <td>Female</td>\n",
       "      <td>46.0</td>\n",
       "      <td>41000.0</td>\n",
       "      <td>1</td>\n",
       "    </tr>\n",
       "    <tr>\n",
       "      <th>396</th>\n",
       "      <td>15706071</td>\n",
       "      <td>Male</td>\n",
       "      <td>51.0</td>\n",
       "      <td>23000.0</td>\n",
       "      <td>1</td>\n",
       "    </tr>\n",
       "    <tr>\n",
       "      <th>397</th>\n",
       "      <td>15654296</td>\n",
       "      <td>Female</td>\n",
       "      <td>50.0</td>\n",
       "      <td>20000.0</td>\n",
       "      <td>1</td>\n",
       "    </tr>\n",
       "    <tr>\n",
       "      <th>398</th>\n",
       "      <td>15755018</td>\n",
       "      <td>Male</td>\n",
       "      <td>36.0</td>\n",
       "      <td>33000.0</td>\n",
       "      <td>0</td>\n",
       "    </tr>\n",
       "    <tr>\n",
       "      <th>399</th>\n",
       "      <td>15594041</td>\n",
       "      <td>Female</td>\n",
       "      <td>49.0</td>\n",
       "      <td>36000.0</td>\n",
       "      <td>1</td>\n",
       "    </tr>\n",
       "  </tbody>\n",
       "</table>\n",
       "<p>400 rows × 5 columns</p>\n",
       "</div>"
      ],
      "text/plain": [
       "      User ID  Gender   Age  EstimatedSalary  Purchased\n",
       "0    15624510    Male  19.0          19000.0          0\n",
       "1    15810944    Male  35.0          20000.0          0\n",
       "2    15668575  Female  26.0          43000.0          0\n",
       "3    15603246  Female  27.0          57000.0          0\n",
       "4    15804002    Male  19.0          76000.0          0\n",
       "..        ...     ...   ...              ...        ...\n",
       "395  15691863  Female  46.0          41000.0          1\n",
       "396  15706071    Male  51.0          23000.0          1\n",
       "397  15654296  Female  50.0          20000.0          1\n",
       "398  15755018    Male  36.0          33000.0          0\n",
       "399  15594041  Female  49.0          36000.0          1\n",
       "\n",
       "[400 rows x 5 columns]"
      ]
     },
     "execution_count": 11,
     "metadata": {},
     "output_type": "execute_result"
    }
   ],
   "source": [
    "df"
   ]
  },
  {
   "cell_type": "markdown",
   "id": "0d3b4d93",
   "metadata": {},
   "source": [
    "# Separate the input and output data"
   ]
  },
  {
   "cell_type": "code",
   "execution_count": 12,
   "id": "b62e9e77",
   "metadata": {},
   "outputs": [],
   "source": [
    "x = df[['Age', 'EstimatedSalary']]\n",
    "y = df['Purchased']"
   ]
  },
  {
   "cell_type": "code",
   "execution_count": 13,
   "id": "3499a1c3",
   "metadata": {},
   "outputs": [
    {
     "data": {
      "text/plain": [
       "Age                0\n",
       "EstimatedSalary    0\n",
       "dtype: int64"
      ]
     },
     "execution_count": 13,
     "metadata": {},
     "output_type": "execute_result"
    }
   ],
   "source": [
    "x.isnull().sum()"
   ]
  },
  {
   "cell_type": "markdown",
   "id": "2dd74abc",
   "metadata": {},
   "source": [
    "# Output variables analysis"
   ]
  },
  {
   "cell_type": "code",
   "execution_count": 14,
   "id": "74359db2",
   "metadata": {},
   "outputs": [
    {
     "data": {
      "text/plain": [
       "{0, 1}"
      ]
     },
     "execution_count": 14,
     "metadata": {},
     "output_type": "execute_result"
    }
   ],
   "source": [
    "set(y)"
   ]
  },
  {
   "cell_type": "code",
   "execution_count": 15,
   "id": "05a28d37",
   "metadata": {},
   "outputs": [
    {
     "data": {
      "text/plain": [
       "array([0, 1], dtype=int64)"
      ]
     },
     "execution_count": 15,
     "metadata": {},
     "output_type": "execute_result"
    }
   ],
   "source": [
    "np.unique(y)"
   ]
  },
  {
   "cell_type": "code",
   "execution_count": 17,
   "id": "79839535",
   "metadata": {},
   "outputs": [
    {
     "data": {
      "image/png": "[encoded data removed]",
      "text/plain": [
       "<Figure size 640x480 with 1 Axes>"
      ]
     },
     "metadata": {},
     "output_type": "display_data"
    }
   ],
   "source": [
    "sns.countplot(x = y);"
   ]
  },
  {
   "cell_type": "code",
   "execution_count": 19,
   "id": "d1d1a881",
   "metadata": {},
   "outputs": [
    {
     "data": {
      "text/plain": [
       "0    257\n",
       "1    143\n",
       "Name: Purchased, dtype: int64"
      ]
     },
     "execution_count": 19,
     "metadata": {},
     "output_type": "execute_result"
    }
   ],
   "source": [
    "y.value_counts()"
   ]
  },
  {
   "cell_type": "code",
   "execution_count": 21,
   "id": "8d249053",
   "metadata": {},
   "outputs": [
    {
     "data": {
      "text/plain": [
       "Counter({0: 257, 1: 143})"
      ]
     },
     "execution_count": 21,
     "metadata": {},
     "output_type": "execute_result"
    }
   ],
   "source": [
    "from collections import Counter\n",
    "Counter(y)"
   ]
  },
  {
   "cell_type": "code",
   "execution_count": 22,
   "id": "d6df7317",
   "metadata": {},
   "outputs": [
    {
     "data": {
      "image/png": "[encoded data removed]",
      "text/plain": [
       "<Figure size 640x480 with 1 Axes>"
      ]
     },
     "metadata": {},
     "output_type": "display_data"
    }
   ],
   "source": [
    "plt.pie(y);"
   ]
  },
  {
   "cell_type": "code",
   "execution_count": 23,
   "id": "387d3d98",
   "metadata": {},
   "outputs": [
    {
     "data": {
      "image/png": "[encoded data removed]",
      "text/plain": [
       "<Figure size 640x480 with 1 Axes>"
      ]
     },
     "metadata": {},
     "output_type": "display_data"
    }
   ],
   "source": [
    "plt.pie(y.value_counts(),autopct='%2.2f%%', labels=(0,1));"
   ]
  },
  {
   "cell_type": "markdown",
   "id": "d994dde0",
   "metadata": {},
   "source": [
    "# Exploratory Data Analysis"
   ]
  },
  {
   "cell_type": "code",
   "execution_count": 24,
   "id": "e5dc1f2c",
   "metadata": {},
   "outputs": [
    {
     "data": {
      "text/html": [
       "<div>\n",
       "<style scoped>\n",
       "    .dataframe tbody tr th:only-of-type {\n",
       "        vertical-align: middle;\n",
       "    }\n",
       "\n",
       "    .dataframe tbody tr th {\n",
       "        vertical-align: top;\n",
       "    }\n",
       "\n",
       "    .dataframe thead th {\n",
       "        text-align: right;\n",
       "    }\n",
       "</style>\n",
       "<table border=\"1\" class=\"dataframe\">\n",
       "  <thead>\n",
       "    <tr style=\"text-align: right;\">\n",
       "      <th></th>\n",
       "      <th>Age</th>\n",
       "      <th>EstimatedSalary</th>\n",
       "    </tr>\n",
       "  </thead>\n",
       "  <tbody>\n",
       "    <tr>\n",
       "      <th>count</th>\n",
       "      <td>400.000000</td>\n",
       "      <td>400.000000</td>\n",
       "    </tr>\n",
       "    <tr>\n",
       "      <th>mean</th>\n",
       "      <td>37.655000</td>\n",
       "      <td>69742.500000</td>\n",
       "    </tr>\n",
       "    <tr>\n",
       "      <th>std</th>\n",
       "      <td>10.482877</td>\n",
       "      <td>34096.960282</td>\n",
       "    </tr>\n",
       "    <tr>\n",
       "      <th>min</th>\n",
       "      <td>18.000000</td>\n",
       "      <td>15000.000000</td>\n",
       "    </tr>\n",
       "    <tr>\n",
       "      <th>25%</th>\n",
       "      <td>29.750000</td>\n",
       "      <td>43000.000000</td>\n",
       "    </tr>\n",
       "    <tr>\n",
       "      <th>50%</th>\n",
       "      <td>37.000000</td>\n",
       "      <td>70000.000000</td>\n",
       "    </tr>\n",
       "    <tr>\n",
       "      <th>75%</th>\n",
       "      <td>46.000000</td>\n",
       "      <td>88000.000000</td>\n",
       "    </tr>\n",
       "    <tr>\n",
       "      <th>max</th>\n",
       "      <td>60.000000</td>\n",
       "      <td>150000.000000</td>\n",
       "    </tr>\n",
       "  </tbody>\n",
       "</table>\n",
       "</div>"
      ],
      "text/plain": [
       "              Age  EstimatedSalary\n",
       "count  400.000000       400.000000\n",
       "mean    37.655000     69742.500000\n",
       "std     10.482877     34096.960282\n",
       "min     18.000000     15000.000000\n",
       "25%     29.750000     43000.000000\n",
       "50%     37.000000     70000.000000\n",
       "75%     46.000000     88000.000000\n",
       "max     60.000000    150000.000000"
      ]
     },
     "execution_count": 24,
     "metadata": {},
     "output_type": "execute_result"
    }
   ],
   "source": [
    "x.describe()"
   ]
  },
  {
   "cell_type": "code",
   "execution_count": 25,
   "id": "8d8aecd0",
   "metadata": {},
   "outputs": [
    {
     "data": {
      "text/plain": [
       "<seaborn.axisgrid.JointGrid at 0x2305b837430>"
      ]
     },
     "execution_count": 25,
     "metadata": {},
     "output_type": "execute_result"
    },
    {
     "data": {
      "image/png": "[encoded data removed]",
      "text/plain": [
       "<Figure size 600x600 with 3 Axes>"
      ]
     },
     "metadata": {},
     "output_type": "display_data"
    }
   ],
   "source": [
    "sns.jointplot(x='Age', y='EstimatedSalary', data=df, hue='Purchased')"
   ]
  },
  {
   "cell_type": "markdown",
   "id": "71548840",
   "metadata": {},
   "source": [
    "# Cross Validation"
   ]
  },
  {
   "cell_type": "code",
   "execution_count": 27,
   "id": "adc41b26",
   "metadata": {},
   "outputs": [],
   "source": [
    "from sklearn.model_selection import train_test_split\n",
    "\n",
    "x_train, x_test, y_train, y_test = train_test_split(x, y, random_state=0)"
   ]
  },
  {
   "cell_type": "code",
   "execution_count": 28,
   "id": "0a0c7809",
   "metadata": {},
   "outputs": [
    {
     "data": {
      "text/plain": [
       "(300, 2)"
      ]
     },
     "execution_count": 28,
     "metadata": {},
     "output_type": "execute_result"
    }
   ],
   "source": [
    "x_train.shape"
   ]
  },
  {
   "cell_type": "code",
   "execution_count": 29,
   "id": "7dbc767f",
   "metadata": {},
   "outputs": [
    {
     "data": {
      "text/plain": [
       "(100, 2)"
      ]
     },
     "execution_count": 29,
     "metadata": {},
     "output_type": "execute_result"
    }
   ],
   "source": [
    "x_test.shape"
   ]
  },
  {
   "cell_type": "markdown",
   "id": "a3a7eb4e",
   "metadata": {},
   "source": [
    "# Build the model"
   ]
  },
  {
   "cell_type": "code",
   "execution_count": 32,
   "id": "88c58431",
   "metadata": {},
   "outputs": [],
   "source": [
    "from sklearn.linear_model import LogisticRegression"
   ]
  },
  {
   "cell_type": "code",
   "execution_count": 33,
   "id": "db1af5de",
   "metadata": {},
   "outputs": [],
   "source": [
    "classifier =LogisticRegression()"
   ]
  },
  {
   "cell_type": "code",
   "execution_count": 34,
   "id": "9186b3d7",
   "metadata": {},
   "outputs": [
    {
     "data": {
      "text/html": [
       "<style>#sk-container-id-1 {color: black;background-color: white;}#sk-container-id-1 pre{padding: 0;}#sk-container-id-1 div.sk-toggleable {background-color: white;}#sk-container-id-1 label.sk-toggleable__label {cursor: pointer;display: block;width: 100%;margin-bottom: 0;padding: 0.3em;box-sizing: border-box;text-align: center;}#sk-container-id-1 label.sk-toggleable__label-arrow:before {content: \"▸\";float: left;margin-right: 0.25em;color: #696969;}#sk-container-id-1 label.sk-toggleable__label-arrow:hover:before {color: black;}#sk-container-id-1 div.sk-estimator:hover label.sk-toggleable__label-arrow:before {color: black;}#sk-container-id-1 div.sk-toggleable__content {max-height: 0;max-width: 0;overflow: hidden;text-align: left;background-color: #f0f8ff;}#sk-container-id-1 div.sk-toggleable__content pre {margin: 0.2em;color: black;border-radius: 0.25em;background-color: #f0f8ff;}#sk-container-id-1 input.sk-toggleable__control:checked~div.sk-toggleable__content {max-height: 200px;max-width: 100%;overflow: auto;}#sk-container-id-1 input.sk-toggleable__control:checked~label.sk-toggleable__label-arrow:before {content: \"▾\";}#sk-container-id-1 div.sk-estimator input.sk-toggleable__control:checked~label.sk-toggleable__label {background-color: #d4ebff;}#sk-container-id-1 div.sk-label input.sk-toggleable__control:checked~label.sk-toggleable__label {background-color: #d4ebff;}#sk-container-id-1 input.sk-hidden--visually {border: 0;clip: rect(1px 1px 1px 1px);clip: rect(1px, 1px, 1px, 1px);height: 1px;margin: -1px;overflow: hidden;padding: 0;position: absolute;width: 1px;}#sk-container-id-1 div.sk-estimator {font-family: monospace;background-color: #f0f8ff;border: 1px dotted black;border-radius: 0.25em;box-sizing: border-box;margin-bottom: 0.5em;}#sk-container-id-1 div.sk-estimator:hover {background-color: #d4ebff;}#sk-container-id-1 div.sk-parallel-item::after {content: \"\";width: 100%;border-bottom: 1px solid gray;flex-grow: 1;}#sk-container-id-1 div.sk-label:hover label.sk-toggleable__label {background-color: #d4ebff;}#sk-container-id-1 div.sk-serial::before {content: \"\";position: absolute;border-left: 1px solid gray;box-sizing: border-box;top: 0;bottom: 0;left: 50%;z-index: 0;}#sk-container-id-1 div.sk-serial {display: flex;flex-direction: column;align-items: center;background-color: white;padding-right: 0.2em;padding-left: 0.2em;position: relative;}#sk-container-id-1 div.sk-item {position: relative;z-index: 1;}#sk-container-id-1 div.sk-parallel {display: flex;align-items: stretch;justify-content: center;background-color: white;position: relative;}#sk-container-id-1 div.sk-item::before, #sk-container-id-1 div.sk-parallel-item::before {content: \"\";position: absolute;border-left: 1px solid gray;box-sizing: border-box;top: 0;bottom: 0;left: 50%;z-index: -1;}#sk-container-id-1 div.sk-parallel-item {display: flex;flex-direction: column;z-index: 1;position: relative;background-color: white;}#sk-container-id-1 div.sk-parallel-item:first-child::after {align-self: flex-end;width: 50%;}#sk-container-id-1 div.sk-parallel-item:last-child::after {align-self: flex-start;width: 50%;}#sk-container-id-1 div.sk-parallel-item:only-child::after {width: 0;}#sk-container-id-1 div.sk-dashed-wrapped {border: 1px dashed gray;margin: 0 0.4em 0.5em 0.4em;box-sizing: border-box;padding-bottom: 0.4em;background-color: white;}#sk-container-id-1 div.sk-label label {font-family: monospace;font-weight: bold;display: inline-block;line-height: 1.2em;}#sk-container-id-1 div.sk-label-container {text-align: center;}#sk-container-id-1 div.sk-container {/* jupyter's `normalize.less` sets `[hidden] { display: none; }` but bootstrap.min.css set `[hidden] { display: none !important; }` so we also need the `!important` here to be able to override the default hidden behavior on the sphinx rendered scikit-learn.org. See: https://github.com/scikit-learn/scikit-learn/issues/21755 */display: inline-block !important;position: relative;}#sk-container-id-1 div.sk-text-repr-fallback {display: none;}</style><div id=\"sk-container-id-1\" class=\"sk-top-container\"><div class=\"sk-text-repr-fallback\"><pre>LogisticRegression()</pre><b>In a Jupyter environment, please rerun this cell to show the HTML representation or trust the notebook. <br />On GitHub, the HTML representation is unable to render, please try loading this page with nbviewer.org.</b></div><div class=\"sk-container\" hidden><div class=\"sk-item\"><div class=\"sk-estimator sk-toggleable\"><input class=\"sk-toggleable__control sk-hidden--visually\" id=\"sk-estimator-id-1\" type=\"checkbox\" checked><label for=\"sk-estimator-id-1\" class=\"sk-toggleable__label sk-toggleable__label-arrow\">LogisticRegression</label><div class=\"sk-toggleable__content\"><pre>LogisticRegression()</pre></div></div></div></div></div>"
      ],
      "text/plain": [
       "LogisticRegression()"
      ]
     },
     "execution_count": 34,
     "metadata": {},
     "output_type": "execute_result"
    }
   ],
   "source": [
    "classifier.fit(x_train, y_train)"
   ]
  },
  {
   "cell_type": "markdown",
   "id": "065de61e",
   "metadata": {},
   "source": [
    "# Prediction on the unseen data"
   ]
  },
  {
   "cell_type": "code",
   "execution_count": 35,
   "id": "57433074",
   "metadata": {},
   "outputs": [],
   "source": [
    "y_pred= classifier.predict(x_test)"
   ]
  },
  {
   "cell_type": "code",
   "execution_count": 36,
   "id": "52d7303c",
   "metadata": {},
   "outputs": [
    {
     "data": {
      "text/plain": [
       "array([0, 0, 0, 0, 0, 0, 0, 1, 0, 0, 0, 0, 0, 0, 0, 0, 0, 0, 1, 0, 0, 1,\n",
       "       0, 1, 0, 1, 0, 0, 0, 0, 0, 1, 1, 0, 0, 0, 0, 0, 0, 1, 0, 0, 0, 0,\n",
       "       1, 0, 0, 1, 0, 1, 1, 0, 0, 0, 1, 1, 0, 0, 1, 0, 0, 1, 0, 1, 0, 1,\n",
       "       0, 0, 0, 0, 1, 0, 0, 1, 0, 0, 0, 0, 1, 1, 1, 0, 0, 0, 1, 1, 0, 1,\n",
       "       1, 0, 0, 1, 0, 0, 0, 1, 0, 1, 1, 1], dtype=int64)"
      ]
     },
     "execution_count": 36,
     "metadata": {},
     "output_type": "execute_result"
    }
   ],
   "source": [
    "y_test.values"
   ]
  },
  {
   "cell_type": "code",
   "execution_count": 37,
   "id": "89050250",
   "metadata": {},
   "outputs": [
    {
     "data": {
      "text/plain": [
       "array([0, 0, 0, 0, 0, 0, 0, 0, 0, 0, 0, 0, 0, 0, 0, 0, 0, 0, 0, 0, 0, 0,\n",
       "       0, 0, 0, 0, 0, 0, 0, 0, 0, 0, 0, 0, 0, 0, 0, 0, 0, 0, 0, 0, 0, 0,\n",
       "       0, 0, 0, 0, 0, 0, 0, 0, 0, 0, 0, 0, 0, 0, 0, 0, 0, 0, 0, 0, 0, 0,\n",
       "       0, 0, 0, 0, 0, 0, 0, 0, 0, 0, 0, 0, 0, 0, 0, 0, 0, 0, 0, 0, 0, 0,\n",
       "       0, 0, 0, 0, 0, 0, 0, 0, 0, 0, 0, 0], dtype=int64)"
      ]
     },
     "execution_count": 37,
     "metadata": {},
     "output_type": "execute_result"
    }
   ],
   "source": [
    "y_pred"
   ]
  },
  {
   "cell_type": "markdown",
   "id": "32886b3b",
   "metadata": {},
   "source": [
    "# Features Scaling"
   ]
  },
  {
   "cell_type": "code",
   "execution_count": 39,
   "id": "015ab176",
   "metadata": {},
   "outputs": [],
   "source": [
    "from sklearn.preprocessing import MinMaxScaler"
   ]
  },
  {
   "cell_type": "code",
   "execution_count": 40,
   "id": "ce47f916",
   "metadata": {},
   "outputs": [],
   "source": [
    "scaler =MinMaxScaler()\n",
    "x_scaled= scaler.fit_transform(x)"
   ]
  },
  {
   "cell_type": "code",
   "execution_count": 41,
   "id": "738f4bb1",
   "metadata": {},
   "outputs": [
    {
     "data": {
      "text/plain": [
       "array([[0.02380952, 0.02962963],\n",
       "       [0.4047619 , 0.03703704],\n",
       "       [0.19047619, 0.20740741],\n",
       "       [0.21428571, 0.31111111],\n",
       "       [0.02380952, 0.45185185],\n",
       "       [0.21428571, 0.31851852],\n",
       "       [0.21428571, 0.51111111],\n",
       "       [0.33333333, 1.        ],\n",
       "       [0.16666667, 0.13333333],\n",
       "       [0.4047619 , 0.37037037],\n",
       "       [0.19047619, 0.48148148],\n",
       "       [0.19047619, 0.27407407],\n",
       "       [0.04761905, 0.52592593],\n",
       "       [0.33333333, 0.02222222],\n",
       "       [0.        , 0.4962963 ],\n",
       "       [0.26190476, 0.48148148],\n",
       "       [0.69047619, 0.07407407],\n",
       "       [0.64285714, 0.08148148],\n",
       "       [0.66666667, 0.0962963 ],\n",
       "       [0.71428571, 0.1037037 ],\n",
       "       [0.64285714, 0.05185185],\n",
       "       [0.69047619, 0.25185185],\n",
       "       [0.71428571, 0.19259259],\n",
       "       [0.64285714, 0.05185185],\n",
       "       [0.66666667, 0.05925926],\n",
       "       [0.69047619, 0.03703704],\n",
       "       [0.73809524, 0.0962963 ],\n",
       "       [0.69047619, 0.11111111],\n",
       "       [0.26190476, 0.20740741],\n",
       "       [0.30952381, 0.02222222],\n",
       "       [0.30952381, 0.43703704],\n",
       "       [0.21428571, 0.9037037 ],\n",
       "       [0.07142857, 0.00740741],\n",
       "       [0.23809524, 0.21481481],\n",
       "       [0.21428571, 0.55555556],\n",
       "       [0.4047619 , 0.08888889],\n",
       "       [0.35714286, 0.0962963 ],\n",
       "       [0.28571429, 0.25185185],\n",
       "       [0.19047619, 0.42222222],\n",
       "       [0.21428571, 0.11851852],\n",
       "       [0.21428571, 0.01481481],\n",
       "       [0.35714286, 0.26666667],\n",
       "       [0.4047619 , 0.68888889],\n",
       "       [0.28571429, 0.        ],\n",
       "       [0.23809524, 0.51111111],\n",
       "       [0.11904762, 0.03703704],\n",
       "       [0.16666667, 0.47407407],\n",
       "       [0.21428571, 0.28888889],\n",
       "       [0.28571429, 0.88888889],\n",
       "       [0.30952381, 0.54814815],\n",
       "       [0.14285714, 0.12592593],\n",
       "       [0.        , 0.21481481],\n",
       "       [0.26190476, 0.5037037 ],\n",
       "       [0.4047619 , 0.05925926],\n",
       "       [0.21428571, 0.31851852],\n",
       "       [0.14285714, 0.2962963 ],\n",
       "       [0.11904762, 0.24444444],\n",
       "       [0.23809524, 0.47407407],\n",
       "       [0.0952381 , 0.02222222],\n",
       "       [0.33333333, 0.75555556],\n",
       "       [0.21428571, 0.03703704],\n",
       "       [0.16666667, 0.53333333],\n",
       "       [0.11904762, 0.37777778],\n",
       "       [0.33333333, 0.77777778],\n",
       "       [0.97619048, 0.5037037 ],\n",
       "       [0.14285714, 0.31851852],\n",
       "       [0.14285714, 0.02962963],\n",
       "       [0.11904762, 0.4962963 ],\n",
       "       [0.0952381 , 0.35555556],\n",
       "       [0.30952381, 0.39259259],\n",
       "       [0.16666667, 0.48148148],\n",
       "       [0.14285714, 0.08888889],\n",
       "       [0.04761905, 0.05925926],\n",
       "       [0.35714286, 0.72592593],\n",
       "       [0.33333333, 0.02222222],\n",
       "       [0.38095238, 0.71851852],\n",
       "       [0.        , 0.27407407],\n",
       "       [0.0952381 , 0.08888889],\n",
       "       [0.23809524, 0.53333333],\n",
       "       [0.19047619, 0.01481481],\n",
       "       [0.28571429, 0.48148148],\n",
       "       [0.5       , 0.2       ],\n",
       "       [0.04761905, 0.25185185],\n",
       "       [0.4047619 , 0.54074074],\n",
       "       [0.28571429, 0.34814815],\n",
       "       [0.30952381, 0.76296296],\n",
       "       [0.14285714, 0.2962963 ],\n",
       "       [0.23809524, 0.51851852],\n",
       "       [0.19047619, 0.48888889],\n",
       "       [0.4047619 , 0.25925926],\n",
       "       [0.0952381 , 0.48888889],\n",
       "       [0.28571429, 0.74814815],\n",
       "       [0.19047619, 0.        ],\n",
       "       [0.26190476, 0.0962963 ],\n",
       "       [0.26190476, 0.5037037 ],\n",
       "       [0.4047619 , 0.21481481],\n",
       "       [0.4047619 , 0.07407407],\n",
       "       [0.23809524, 0.8       ],\n",
       "       [0.4047619 , 0.42962963],\n",
       "       [0.23809524, 0.16296296],\n",
       "       [0.21428571, 0.54074074],\n",
       "       [0.23809524, 0.32592593],\n",
       "       [0.33333333, 0.52592593],\n",
       "       [0.35714286, 0.99259259],\n",
       "       [0.02380952, 0.04444444],\n",
       "       [0.07142857, 0.42222222],\n",
       "       [0.19047619, 0.14814815],\n",
       "       [0.21428571, 0.54814815],\n",
       "       [0.19047619, 0.52592593],\n",
       "       [0.47619048, 0.48148148],\n",
       "       [0.5       , 0.41481481],\n",
       "       [0.45238095, 0.41481481],\n",
       "       [0.47619048, 0.34074074],\n",
       "       [0.45238095, 0.2962963 ],\n",
       "       [0.57142857, 0.48148148],\n",
       "       [0.52380952, 0.31111111],\n",
       "       [0.4047619 , 0.44444444],\n",
       "       [0.42857143, 0.27407407],\n",
       "       [0.52380952, 0.32592593],\n",
       "       [0.54761905, 0.32592593],\n",
       "       [0.42857143, 0.44444444],\n",
       "       [0.45238095, 0.42222222],\n",
       "       [0.52380952, 0.44444444],\n",
       "       [0.4047619 , 0.28148148],\n",
       "       [0.54761905, 0.26666667],\n",
       "       [0.5       , 0.34074074],\n",
       "       [0.57142857, 0.37037037],\n",
       "       [0.19047619, 0.12592593],\n",
       "       [0.28571429, 0.01481481],\n",
       "       [0.19047619, 0.51111111],\n",
       "       [0.30952381, 0.31851852],\n",
       "       [0.35714286, 0.11851852],\n",
       "       [0.28571429, 0.53333333],\n",
       "       [0.07142857, 0.39259259],\n",
       "       [0.23809524, 0.2962963 ],\n",
       "       [0.11904762, 0.35555556],\n",
       "       [0.04761905, 0.4962963 ],\n",
       "       [0.28571429, 0.68148148],\n",
       "       [0.23809524, 0.32592593],\n",
       "       [0.02380952, 0.07407407],\n",
       "       [0.02380952, 0.51851852],\n",
       "       [0.        , 0.39259259],\n",
       "       [0.4047619 , 0.32592593],\n",
       "       [0.28571429, 0.54814815],\n",
       "       [0.38095238, 0.07407407],\n",
       "       [0.14285714, 0.54814815],\n",
       "       [0.21428571, 0.6       ],\n",
       "       [0.54761905, 0.11111111],\n",
       "       [0.26190476, 0.34074074],\n",
       "       [0.04761905, 0.43703704],\n",
       "       [0.19047619, 0.        ],\n",
       "       [0.54761905, 0.22222222],\n",
       "       [0.30952381, 0.45185185],\n",
       "       [0.42857143, 0.25925926],\n",
       "       [0.52380952, 0.23703704],\n",
       "       [0.30952381, 0.        ],\n",
       "       [0.66666667, 0.32592593],\n",
       "       [0.26190476, 0.44444444],\n",
       "       [0.19047619, 0.11111111],\n",
       "       [0.33333333, 0.88888889],\n",
       "       [0.33333333, 0.62962963],\n",
       "       [0.16666667, 0.55555556],\n",
       "       [0.45238095, 0.13333333],\n",
       "       [0.4047619 , 0.17037037],\n",
       "       [0.35714286, 0.4       ],\n",
       "       [0.        , 0.52592593],\n",
       "       [0.0952381 , 0.2962963 ],\n",
       "       [0.4047619 , 0.41481481],\n",
       "       [0.26190476, 0.98518519],\n",
       "       [0.26190476, 0.23703704],\n",
       "       [0.07142857, 0.54074074],\n",
       "       [0.38095238, 0.74074074],\n",
       "       [0.19047619, 0.76296296],\n",
       "       [0.38095238, 0.20740741],\n",
       "       [0.38095238, 0.42222222],\n",
       "       [0.11904762, 0.0962963 ],\n",
       "       [0.4047619 , 0.23703704],\n",
       "       [0.16666667, 0.05185185],\n",
       "       [0.14285714, 0.05925926],\n",
       "       [0.30952381, 0.14074074],\n",
       "       [0.19047619, 0.00740741],\n",
       "       [0.30952381, 0.41481481],\n",
       "       [0.33333333, 0.75555556],\n",
       "       [0.35714286, 0.20740741],\n",
       "       [0.35714286, 0.33333333],\n",
       "       [0.30952381, 0.37777778],\n",
       "       [0.04761905, 0.4962963 ],\n",
       "       [0.35714286, 0.19259259],\n",
       "       [0.4047619 , 0.42222222],\n",
       "       [0.23809524, 0.12592593],\n",
       "       [0.14285714, 0.51111111],\n",
       "       [0.02380952, 0.08148148],\n",
       "       [0.26190476, 0.20740741],\n",
       "       [0.02380952, 0.40740741],\n",
       "       [0.23809524, 0.54814815],\n",
       "       [0.38095238, 0.20740741],\n",
       "       [0.28571429, 0.47407407],\n",
       "       [0.04761905, 0.15555556],\n",
       "       [0.19047619, 0.48148148],\n",
       "       [0.4047619 , 0.05185185],\n",
       "       [0.4047619 , 0.17777778],\n",
       "       [0.73809524, 0.43703704],\n",
       "       [0.5       , 0.88148148],\n",
       "       [0.54761905, 0.41481481],\n",
       "       [0.95238095, 0.63703704],\n",
       "       [0.69047619, 0.23703704],\n",
       "       [0.88095238, 0.85185185],\n",
       "       [0.80952381, 0.73333333],\n",
       "       [0.52380952, 0.94074074],\n",
       "       [0.66666667, 0.05185185],\n",
       "       [0.71428571, 0.6       ],\n",
       "       [0.80952381, 1.        ],\n",
       "       [0.97619048, 0.2       ],\n",
       "       [0.4047619 , 0.31851852],\n",
       "       [0.69047619, 0.20740741],\n",
       "       [1.        , 0.68888889],\n",
       "       [0.73809524, 0.37037037],\n",
       "       [0.52380952, 0.46666667],\n",
       "       [0.66666667, 0.6       ],\n",
       "       [0.97619048, 0.94814815],\n",
       "       [0.54761905, 0.48148148],\n",
       "       [0.4047619 , 0.56296296],\n",
       "       [0.45238095, 0.95555556],\n",
       "       [1.        , 0.64444444],\n",
       "       [0.4047619 , 0.33333333],\n",
       "       [0.45238095, 0.28148148],\n",
       "       [0.42857143, 0.82222222],\n",
       "       [0.9047619 , 0.87407407],\n",
       "       [0.52380952, 0.42222222],\n",
       "       [0.57142857, 0.48148148],\n",
       "       [0.4047619 , 0.97777778],\n",
       "       [0.5       , 0.2       ],\n",
       "       [0.52380952, 0.68148148],\n",
       "       [0.73809524, 0.52592593],\n",
       "       [0.47619048, 0.71851852],\n",
       "       [0.66666667, 0.47407407],\n",
       "       [0.52380952, 0.31111111],\n",
       "       [0.45238095, 0.48148148],\n",
       "       [0.66666667, 0.4962963 ],\n",
       "       [0.83333333, 0.94814815],\n",
       "       [0.57142857, 0.99259259],\n",
       "       [0.47619048, 0.32592593],\n",
       "       [0.76190476, 0.54074074],\n",
       "       [0.9047619 , 0.65925926],\n",
       "       [0.54761905, 0.42222222],\n",
       "       [0.78571429, 0.97037037],\n",
       "       [0.4047619 , 0.25925926],\n",
       "       [0.92857143, 0.79259259],\n",
       "       [0.54761905, 0.27407407],\n",
       "       [0.4047619 , 0.60740741],\n",
       "       [0.61904762, 0.17777778],\n",
       "       [0.45238095, 0.27407407],\n",
       "       [0.71428571, 0.88148148],\n",
       "       [0.45238095, 0.97037037],\n",
       "       [0.76190476, 0.21481481],\n",
       "       [0.80952381, 0.55555556],\n",
       "       [0.54761905, 0.42222222],\n",
       "       [0.52380952, 0.31111111],\n",
       "       [0.95238095, 0.59259259],\n",
       "       [0.64285714, 0.85925926],\n",
       "       [0.4047619 , 0.45925926],\n",
       "       [0.42857143, 0.95555556],\n",
       "       [0.88095238, 0.81481481],\n",
       "       [0.4047619 , 0.42222222],\n",
       "       [0.71428571, 0.55555556],\n",
       "       [0.57142857, 0.68888889],\n",
       "       [0.52380952, 0.44444444],\n",
       "       [0.45238095, 0.43703704],\n",
       "       [0.69047619, 0.95555556],\n",
       "       [0.52380952, 0.34074074],\n",
       "       [0.5952381 , 0.87407407],\n",
       "       [0.97619048, 0.45185185],\n",
       "       [1.        , 0.2       ],\n",
       "       [0.5       , 0.67407407],\n",
       "       [0.92857143, 0.08148148],\n",
       "       [0.92857143, 0.43703704],\n",
       "       [0.47619048, 0.41481481],\n",
       "       [0.73809524, 0.54074074],\n",
       "       [0.80952381, 0.17037037],\n",
       "       [0.76190476, 0.15555556],\n",
       "       [0.97619048, 0.54074074],\n",
       "       [0.4047619 , 0.34074074],\n",
       "       [0.45238095, 0.40740741],\n",
       "       [0.80952381, 0.04444444],\n",
       "       [0.71428571, 0.93333333],\n",
       "       [0.45238095, 0.57777778],\n",
       "       [0.45238095, 0.34814815],\n",
       "       [0.71428571, 0.91111111],\n",
       "       [0.54761905, 0.47407407],\n",
       "       [0.45238095, 0.46666667],\n",
       "       [0.5       , 0.88148148],\n",
       "       [0.73809524, 0.54814815],\n",
       "       [0.88095238, 0.17777778],\n",
       "       [0.45238095, 0.45925926],\n",
       "       [0.4047619 , 0.31111111],\n",
       "       [0.42857143, 0.35555556],\n",
       "       [0.57142857, 0.42962963],\n",
       "       [0.5952381 , 0.71851852],\n",
       "       [0.64285714, 0.47407407],\n",
       "       [0.66666667, 0.75555556],\n",
       "       [0.95238095, 0.17037037],\n",
       "       [0.71428571, 0.43703704],\n",
       "       [0.45238095, 0.9037037 ],\n",
       "       [0.45238095, 0.47407407],\n",
       "       [0.52380952, 0.33333333],\n",
       "       [0.57142857, 0.28888889],\n",
       "       [0.78571429, 0.88148148],\n",
       "       [0.69047619, 0.72592593],\n",
       "       [0.42857143, 0.81481481],\n",
       "       [0.47619048, 0.25925926],\n",
       "       [0.57142857, 0.40740741],\n",
       "       [0.5       , 0.6       ],\n",
       "       [0.47619048, 0.25925926],\n",
       "       [0.73809524, 0.93333333],\n",
       "       [0.5       , 0.47407407],\n",
       "       [0.5       , 0.44444444],\n",
       "       [0.85714286, 0.65925926],\n",
       "       [0.4047619 , 0.2962963 ],\n",
       "       [0.64285714, 0.12592593],\n",
       "       [0.42857143, 0.33333333],\n",
       "       [0.80952381, 0.91111111],\n",
       "       [0.83333333, 0.4962963 ],\n",
       "       [0.54761905, 0.27407407],\n",
       "       [0.71428571, 0.11111111],\n",
       "       [0.71428571, 0.85925926],\n",
       "       [0.54761905, 0.33333333],\n",
       "       [0.54761905, 0.42222222],\n",
       "       [0.57142857, 0.44444444],\n",
       "       [0.42857143, 0.76296296],\n",
       "       [0.69047619, 0.68148148],\n",
       "       [0.47619048, 0.26666667],\n",
       "       [0.71428571, 0.77037037],\n",
       "       [0.57142857, 0.37037037],\n",
       "       [0.52380952, 0.37037037],\n",
       "       [0.92857143, 0.33333333],\n",
       "       [0.42857143, 0.28888889],\n",
       "       [0.95238095, 0.95555556],\n",
       "       [0.4047619 , 0.47407407],\n",
       "       [0.47619048, 0.2962963 ],\n",
       "       [0.5       , 0.79259259],\n",
       "       [0.83333333, 0.65925926],\n",
       "       [0.4047619 , 0.44444444],\n",
       "       [0.47619048, 0.37037037],\n",
       "       [0.69047619, 0.26666667],\n",
       "       [0.69047619, 0.66666667],\n",
       "       [0.54761905, 0.35555556],\n",
       "       [0.83333333, 0.42222222],\n",
       "       [0.85714286, 0.68888889],\n",
       "       [0.5       , 0.45925926],\n",
       "       [0.47619048, 0.34074074],\n",
       "       [0.47619048, 0.72592593],\n",
       "       [0.45238095, 0.44444444],\n",
       "       [0.57142857, 0.55555556],\n",
       "       [0.45238095, 0.31111111],\n",
       "       [0.42857143, 0.62222222],\n",
       "       [1.        , 0.14074074],\n",
       "       [0.85714286, 0.40740741],\n",
       "       [0.54761905, 0.42222222],\n",
       "       [0.52380952, 0.41481481],\n",
       "       [0.57142857, 0.28888889],\n",
       "       [0.5952381 , 0.84444444],\n",
       "       [0.83333333, 0.14074074],\n",
       "       [0.69047619, 0.25925926],\n",
       "       [0.57142857, 0.47407407],\n",
       "       [0.57142857, 0.65925926],\n",
       "       [0.97619048, 0.1037037 ],\n",
       "       [0.95238095, 0.23703704],\n",
       "       [0.66666667, 0.54074074],\n",
       "       [0.47619048, 0.41481481],\n",
       "       [0.85714286, 0.08148148],\n",
       "       [1.        , 0.22962963],\n",
       "       [1.        , 0.5037037 ],\n",
       "       [0.5       , 0.42962963],\n",
       "       [0.97619048, 0.85185185],\n",
       "       [0.45238095, 0.48148148],\n",
       "       [0.66666667, 0.12592593],\n",
       "       [0.66666667, 0.43703704],\n",
       "       [0.57142857, 0.28148148],\n",
       "       [0.54761905, 0.53333333],\n",
       "       [0.95238095, 0.05925926],\n",
       "       [0.57142857, 0.36296296],\n",
       "       [0.71428571, 0.13333333],\n",
       "       [0.61904762, 0.91851852],\n",
       "       [0.73809524, 0.0962963 ],\n",
       "       [0.92857143, 0.13333333],\n",
       "       [0.9047619 , 0.33333333],\n",
       "       [0.73809524, 0.17777778],\n",
       "       [0.5       , 0.41481481],\n",
       "       [0.69047619, 0.14074074],\n",
       "       [0.71428571, 0.14814815],\n",
       "       [0.71428571, 0.13333333],\n",
       "       [0.69047619, 0.05925926],\n",
       "       [0.64285714, 0.22222222],\n",
       "       [1.        , 0.2       ],\n",
       "       [0.5       , 0.32592593],\n",
       "       [0.66666667, 0.19259259],\n",
       "       [0.78571429, 0.05925926],\n",
       "       [0.76190476, 0.03703704],\n",
       "       [0.42857143, 0.13333333],\n",
       "       [0.73809524, 0.15555556]])"
      ]
     },
     "execution_count": 41,
     "metadata": {},
     "output_type": "execute_result"
    }
   ],
   "source": [
    "x_scaled"
   ]
  },
  {
   "cell_type": "markdown",
   "id": "ad93798f",
   "metadata": {},
   "source": [
    "# Cross Validation"
   ]
  },
  {
   "cell_type": "code",
   "execution_count": 42,
   "id": "3ad460e4",
   "metadata": {},
   "outputs": [],
   "source": [
    "from sklearn.model_selection import train_test_split\n",
    "\n",
    "x_train, x_test, y_train, y_test = train_test_split(x_scaled, y, random_state=0)"
   ]
  },
  {
   "cell_type": "code",
   "execution_count": 43,
   "id": "7bd85fbf",
   "metadata": {},
   "outputs": [
    {
     "data": {
      "text/plain": [
       "(300, 2)"
      ]
     },
     "execution_count": 43,
     "metadata": {},
     "output_type": "execute_result"
    }
   ],
   "source": [
    "x_train.shape"
   ]
  },
  {
   "cell_type": "code",
   "execution_count": 44,
   "id": "5a2eaa24",
   "metadata": {},
   "outputs": [
    {
     "data": {
      "text/plain": [
       "(100, 2)"
      ]
     },
     "execution_count": 44,
     "metadata": {},
     "output_type": "execute_result"
    }
   ],
   "source": [
    "x_test.shape"
   ]
  },
  {
   "cell_type": "markdown",
   "id": "66656eaf",
   "metadata": {},
   "source": [
    "# Build the model"
   ]
  },
  {
   "cell_type": "code",
   "execution_count": 45,
   "id": "9ea4efda",
   "metadata": {},
   "outputs": [],
   "source": [
    "from sklearn.linear_model import LogisticRegression"
   ]
  },
  {
   "cell_type": "code",
   "execution_count": 46,
   "id": "d8bfde76",
   "metadata": {},
   "outputs": [],
   "source": [
    "classifier =LogisticRegression()"
   ]
  },
  {
   "cell_type": "code",
   "execution_count": 47,
   "id": "adabfe1c",
   "metadata": {},
   "outputs": [
    {
     "data": {
      "text/html": [
       "<style>#sk-container-id-2 {color: black;background-color: white;}#sk-container-id-2 pre{padding: 0;}#sk-container-id-2 div.sk-toggleable {background-color: white;}#sk-container-id-2 label.sk-toggleable__label {cursor: pointer;display: block;width: 100%;margin-bottom: 0;padding: 0.3em;box-sizing: border-box;text-align: center;}#sk-container-id-2 label.sk-toggleable__label-arrow:before {content: \"▸\";float: left;margin-right: 0.25em;color: #696969;}#sk-container-id-2 label.sk-toggleable__label-arrow:hover:before {color: black;}#sk-container-id-2 div.sk-estimator:hover label.sk-toggleable__label-arrow:before {color: black;}#sk-container-id-2 div.sk-toggleable__content {max-height: 0;max-width: 0;overflow: hidden;text-align: left;background-color: #f0f8ff;}#sk-container-id-2 div.sk-toggleable__content pre {margin: 0.2em;color: black;border-radius: 0.25em;background-color: #f0f8ff;}#sk-container-id-2 input.sk-toggleable__control:checked~div.sk-toggleable__content {max-height: 200px;max-width: 100%;overflow: auto;}#sk-container-id-2 input.sk-toggleable__control:checked~label.sk-toggleable__label-arrow:before {content: \"▾\";}#sk-container-id-2 div.sk-estimator input.sk-toggleable__control:checked~label.sk-toggleable__label {background-color: #d4ebff;}#sk-container-id-2 div.sk-label input.sk-toggleable__control:checked~label.sk-toggleable__label {background-color: #d4ebff;}#sk-container-id-2 input.sk-hidden--visually {border: 0;clip: rect(1px 1px 1px 1px);clip: rect(1px, 1px, 1px, 1px);height: 1px;margin: -1px;overflow: hidden;padding: 0;position: absolute;width: 1px;}#sk-container-id-2 div.sk-estimator {font-family: monospace;background-color: #f0f8ff;border: 1px dotted black;border-radius: 0.25em;box-sizing: border-box;margin-bottom: 0.5em;}#sk-container-id-2 div.sk-estimator:hover {background-color: #d4ebff;}#sk-container-id-2 div.sk-parallel-item::after {content: \"\";width: 100%;border-bottom: 1px solid gray;flex-grow: 1;}#sk-container-id-2 div.sk-label:hover label.sk-toggleable__label {background-color: #d4ebff;}#sk-container-id-2 div.sk-serial::before {content: \"\";position: absolute;border-left: 1px solid gray;box-sizing: border-box;top: 0;bottom: 0;left: 50%;z-index: 0;}#sk-container-id-2 div.sk-serial {display: flex;flex-direction: column;align-items: center;background-color: white;padding-right: 0.2em;padding-left: 0.2em;position: relative;}#sk-container-id-2 div.sk-item {position: relative;z-index: 1;}#sk-container-id-2 div.sk-parallel {display: flex;align-items: stretch;justify-content: center;background-color: white;position: relative;}#sk-container-id-2 div.sk-item::before, #sk-container-id-2 div.sk-parallel-item::before {content: \"\";position: absolute;border-left: 1px solid gray;box-sizing: border-box;top: 0;bottom: 0;left: 50%;z-index: -1;}#sk-container-id-2 div.sk-parallel-item {display: flex;flex-direction: column;z-index: 1;position: relative;background-color: white;}#sk-container-id-2 div.sk-parallel-item:first-child::after {align-self: flex-end;width: 50%;}#sk-container-id-2 div.sk-parallel-item:last-child::after {align-self: flex-start;width: 50%;}#sk-container-id-2 div.sk-parallel-item:only-child::after {width: 0;}#sk-container-id-2 div.sk-dashed-wrapped {border: 1px dashed gray;margin: 0 0.4em 0.5em 0.4em;box-sizing: border-box;padding-bottom: 0.4em;background-color: white;}#sk-container-id-2 div.sk-label label {font-family: monospace;font-weight: bold;display: inline-block;line-height: 1.2em;}#sk-container-id-2 div.sk-label-container {text-align: center;}#sk-container-id-2 div.sk-container {/* jupyter's `normalize.less` sets `[hidden] { display: none; }` but bootstrap.min.css set `[hidden] { display: none !important; }` so we also need the `!important` here to be able to override the default hidden behavior on the sphinx rendered scikit-learn.org. See: https://github.com/scikit-learn/scikit-learn/issues/21755 */display: inline-block !important;position: relative;}#sk-container-id-2 div.sk-text-repr-fallback {display: none;}</style><div id=\"sk-container-id-2\" class=\"sk-top-container\"><div class=\"sk-text-repr-fallback\"><pre>LogisticRegression()</pre><b>In a Jupyter environment, please rerun this cell to show the HTML representation or trust the notebook. <br />On GitHub, the HTML representation is unable to render, please try loading this page with nbviewer.org.</b></div><div class=\"sk-container\" hidden><div class=\"sk-item\"><div class=\"sk-estimator sk-toggleable\"><input class=\"sk-toggleable__control sk-hidden--visually\" id=\"sk-estimator-id-2\" type=\"checkbox\" checked><label for=\"sk-estimator-id-2\" class=\"sk-toggleable__label sk-toggleable__label-arrow\">LogisticRegression</label><div class=\"sk-toggleable__content\"><pre>LogisticRegression()</pre></div></div></div></div></div>"
      ],
      "text/plain": [
       "LogisticRegression()"
      ]
     },
     "execution_count": 47,
     "metadata": {},
     "output_type": "execute_result"
    }
   ],
   "source": [
    "classifier.fit(x_train, y_train)"
   ]
  },
  {
   "cell_type": "markdown",
   "id": "a3ba9891",
   "metadata": {},
   "source": [
    "# Prediction on the unseen data"
   ]
  },
  {
   "cell_type": "code",
   "execution_count": 48,
   "id": "d4f70951",
   "metadata": {},
   "outputs": [],
   "source": [
    "y_pred= classifier.predict(x_test)"
   ]
  },
  {
   "cell_type": "code",
   "execution_count": 49,
   "id": "bc603b3c",
   "metadata": {},
   "outputs": [
    {
     "data": {
      "text/plain": [
       "array([0, 0, 0, 0, 0, 0, 0, 1, 0, 0, 0, 0, 0, 0, 0, 0, 0, 0, 1, 0, 0, 1,\n",
       "       0, 1, 0, 1, 0, 0, 0, 0, 0, 1, 1, 0, 0, 0, 0, 0, 0, 1, 0, 0, 0, 0,\n",
       "       1, 0, 0, 1, 0, 1, 1, 0, 0, 0, 1, 1, 0, 0, 1, 0, 0, 1, 0, 1, 0, 1,\n",
       "       0, 0, 0, 0, 1, 0, 0, 1, 0, 0, 0, 0, 1, 1, 1, 0, 0, 0, 1, 1, 0, 1,\n",
       "       1, 0, 0, 1, 0, 0, 0, 1, 0, 1, 1, 1], dtype=int64)"
      ]
     },
     "execution_count": 49,
     "metadata": {},
     "output_type": "execute_result"
    }
   ],
   "source": [
    "y_test.values"
   ]
  },
  {
   "cell_type": "code",
   "execution_count": 50,
   "id": "68a239b8",
   "metadata": {},
   "outputs": [
    {
     "data": {
      "text/plain": [
       "array([0, 0, 0, 0, 0, 0, 0, 1, 0, 0, 0, 0, 0, 0, 0, 0, 0, 0, 1, 0, 0, 1,\n",
       "       0, 1, 0, 1, 0, 0, 0, 0, 0, 0, 1, 0, 0, 0, 0, 0, 0, 0, 0, 0, 0, 0,\n",
       "       1, 0, 0, 1, 0, 1, 1, 0, 0, 0, 1, 0, 0, 0, 0, 0, 0, 1, 0, 0, 0, 1,\n",
       "       0, 0, 0, 0, 1, 0, 0, 0, 0, 0, 0, 0, 1, 1, 1, 1, 0, 0, 1, 0, 0, 1,\n",
       "       0, 0, 0, 1, 0, 0, 0, 0, 0, 0, 1, 1], dtype=int64)"
      ]
     },
     "execution_count": 50,
     "metadata": {},
     "output_type": "execute_result"
    }
   ],
   "source": [
    "y_pred"
   ]
  },
  {
   "cell_type": "code",
   "execution_count": 51,
   "id": "8be20419",
   "metadata": {},
   "outputs": [],
   "source": [
    "result =pd.DataFrame({\n",
    "    'Actual': y_test,\n",
    "    'Predicted': y_pred\n",
    "})"
   ]
  },
  {
   "cell_type": "code",
   "execution_count": 52,
   "id": "698b97cb",
   "metadata": {},
   "outputs": [
    {
     "data": {
      "text/html": [
       "<div>\n",
       "<style scoped>\n",
       "    .dataframe tbody tr th:only-of-type {\n",
       "        vertical-align: middle;\n",
       "    }\n",
       "\n",
       "    .dataframe tbody tr th {\n",
       "        vertical-align: top;\n",
       "    }\n",
       "\n",
       "    .dataframe thead th {\n",
       "        text-align: right;\n",
       "    }\n",
       "</style>\n",
       "<table border=\"1\" class=\"dataframe\">\n",
       "  <thead>\n",
       "    <tr style=\"text-align: right;\">\n",
       "      <th></th>\n",
       "      <th>Actual</th>\n",
       "      <th>Predicted</th>\n",
       "    </tr>\n",
       "  </thead>\n",
       "  <tbody>\n",
       "    <tr>\n",
       "      <th>132</th>\n",
       "      <td>0</td>\n",
       "      <td>0</td>\n",
       "    </tr>\n",
       "    <tr>\n",
       "      <th>309</th>\n",
       "      <td>0</td>\n",
       "      <td>0</td>\n",
       "    </tr>\n",
       "    <tr>\n",
       "      <th>341</th>\n",
       "      <td>0</td>\n",
       "      <td>0</td>\n",
       "    </tr>\n",
       "    <tr>\n",
       "      <th>196</th>\n",
       "      <td>0</td>\n",
       "      <td>0</td>\n",
       "    </tr>\n",
       "    <tr>\n",
       "      <th>246</th>\n",
       "      <td>0</td>\n",
       "      <td>0</td>\n",
       "    </tr>\n",
       "    <tr>\n",
       "      <th>...</th>\n",
       "      <td>...</td>\n",
       "      <td>...</td>\n",
       "    </tr>\n",
       "    <tr>\n",
       "      <th>146</th>\n",
       "      <td>1</td>\n",
       "      <td>0</td>\n",
       "    </tr>\n",
       "    <tr>\n",
       "      <th>135</th>\n",
       "      <td>0</td>\n",
       "      <td>0</td>\n",
       "    </tr>\n",
       "    <tr>\n",
       "      <th>390</th>\n",
       "      <td>1</td>\n",
       "      <td>0</td>\n",
       "    </tr>\n",
       "    <tr>\n",
       "      <th>264</th>\n",
       "      <td>1</td>\n",
       "      <td>1</td>\n",
       "    </tr>\n",
       "    <tr>\n",
       "      <th>364</th>\n",
       "      <td>1</td>\n",
       "      <td>1</td>\n",
       "    </tr>\n",
       "  </tbody>\n",
       "</table>\n",
       "<p>100 rows × 2 columns</p>\n",
       "</div>"
      ],
      "text/plain": [
       "     Actual  Predicted\n",
       "132       0          0\n",
       "309       0          0\n",
       "341       0          0\n",
       "196       0          0\n",
       "246       0          0\n",
       "..      ...        ...\n",
       "146       1          0\n",
       "135       0          0\n",
       "390       1          0\n",
       "264       1          1\n",
       "364       1          1\n",
       "\n",
       "[100 rows x 2 columns]"
      ]
     },
     "execution_count": 52,
     "metadata": {},
     "output_type": "execute_result"
    }
   ],
   "source": [
    "result"
   ]
  },
  {
   "cell_type": "markdown",
   "id": "458cc69d",
   "metadata": {},
   "source": [
    "# Performance Evaluation"
   ]
  },
  {
   "cell_type": "code",
   "execution_count": 53,
   "id": "9344cea3",
   "metadata": {},
   "outputs": [],
   "source": [
    "from sklearn.metrics import confusion_matrix, ConfusionMatrixDisplay\n",
    "from sklearn.metrics import accuracy_score, classification_report"
   ]
  },
  {
   "cell_type": "code",
   "execution_count": 54,
   "id": "d9e199bb",
   "metadata": {},
   "outputs": [
    {
     "data": {
      "text/plain": [
       "array([[67,  1],\n",
       "       [10, 22]], dtype=int64)"
      ]
     },
     "execution_count": 54,
     "metadata": {},
     "output_type": "execute_result"
    }
   ],
   "source": [
    "confusion_matrix(y_test, y_pred)"
   ]
  },
  {
   "cell_type": "code",
   "execution_count": 55,
   "id": "d0ac1c1d",
   "metadata": {},
   "outputs": [
    {
     "data": {
      "text/plain": [
       "0    68\n",
       "1    32\n",
       "Name: Purchased, dtype: int64"
      ]
     },
     "execution_count": 55,
     "metadata": {},
     "output_type": "execute_result"
    }
   ],
   "source": [
    "y_test.value_counts()"
   ]
  },
  {
   "cell_type": "code",
   "execution_count": 56,
   "id": "0df29f54",
   "metadata": {},
   "outputs": [
    {
     "data": {
      "text/plain": [
       "<sklearn.metrics._plot.confusion_matrix.ConfusionMatrixDisplay at 0x2305baf2560>"
      ]
     },
     "execution_count": 56,
     "metadata": {},
     "output_type": "execute_result"
    },
    {
     "data": {
      "image/png": "[encoded data removed]",
      "text/plain": [
       "<Figure size 640x480 with 2 Axes>"
      ]
     },
     "metadata": {},
     "output_type": "display_data"
    }
   ],
   "source": [
    "ConfusionMatrixDisplay.from_predictions(y_test, y_pred)"
   ]
  },
  {
   "cell_type": "code",
   "execution_count": 57,
   "id": "f1dcca9e",
   "metadata": {},
   "outputs": [
    {
     "data": {
      "text/plain": [
       "1.0"
      ]
     },
     "execution_count": 57,
     "metadata": {},
     "output_type": "execute_result"
    }
   ],
   "source": [
    "accuracy_score(y_test, y_test)"
   ]
  },
  {
   "cell_type": "code",
   "execution_count": 58,
   "id": "bf81c01f",
   "metadata": {},
   "outputs": [
    {
     "name": "stdout",
     "output_type": "stream",
     "text": [
      "              precision    recall  f1-score   support\n",
      "\n",
      "           0       0.87      0.99      0.92        68\n",
      "           1       0.96      0.69      0.80        32\n",
      "\n",
      "    accuracy                           0.89       100\n",
      "   macro avg       0.91      0.84      0.86       100\n",
      "weighted avg       0.90      0.89      0.88       100\n",
      "\n"
     ]
    }
   ],
   "source": [
    "print(classification_report(y_test, y_pred))"
   ]
  },
  {
   "cell_type": "code",
   "execution_count": 60,
   "id": "890f8c1f",
   "metadata": {},
   "outputs": [
    {
     "data": {
      "text/plain": [
       "0.9852941176470589"
      ]
     },
     "execution_count": 60,
     "metadata": {},
     "output_type": "execute_result"
    }
   ],
   "source": [
    "# Recall of class-0 / Class Accuracy -0 / Sensitivity\n",
    "r0 = 67/68\n",
    "r0"
   ]
  },
  {
   "cell_type": "code",
   "execution_count": 62,
   "id": "41687b8f",
   "metadata": {},
   "outputs": [
    {
     "data": {
      "text/plain": [
       "0.6875"
      ]
     },
     "execution_count": 62,
     "metadata": {},
     "output_type": "execute_result"
    }
   ],
   "source": [
    "# Recall of class-0 / Class Accuracy -0 / Specificity\n",
    "r1 = 22/32\n",
    "r1"
   ]
  },
  {
   "cell_type": "code",
   "execution_count": 65,
   "id": "61a67240",
   "metadata": {},
   "outputs": [
    {
     "data": {
      "text/plain": [
       "0.8701298701298701"
      ]
     },
     "execution_count": 65,
     "metadata": {},
     "output_type": "execute_result"
    }
   ],
   "source": [
    "# Precision of class-0 / Positive Predictive Value\n",
    "p0 = 67/77\n",
    "p0"
   ]
  },
  {
   "cell_type": "code",
   "execution_count": 66,
   "id": "1914f01d",
   "metadata": {},
   "outputs": [
    {
     "data": {
      "text/plain": [
       "0.9565217391304348"
      ]
     },
     "execution_count": 66,
     "metadata": {},
     "output_type": "execute_result"
    }
   ],
   "source": [
    "# Precision of class-1 / Negative Predictive Value\n",
    "p1 =22/23\n",
    "p1"
   ]
  },
  {
   "cell_type": "code",
   "execution_count": 68,
   "id": "0c07ace7",
   "metadata": {},
   "outputs": [
    {
     "data": {
      "text/plain": [
       "0.7681083897863471"
      ]
     },
     "execution_count": 68,
     "metadata": {},
     "output_type": "execute_result"
    }
   ],
   "source": [
    "f0 =2 *(p0 * r0)/ (p0 +r0)\n",
    "f0"
   ]
  },
  {
   "cell_type": "code",
   "execution_count": 71,
   "id": "7dedfd11",
   "metadata": {},
   "outputs": [
    {
     "data": {
      "text/plain": [
       "0.8"
      ]
     },
     "execution_count": 71,
     "metadata": {},
     "output_type": "execute_result"
    }
   ],
   "source": [
    "f1 =2 *(p1 * r1)/ (p1 +r1)\n",
    "f1"
   ]
  },
  {
   "cell_type": "markdown",
   "id": "5e310e7d",
   "metadata": {},
   "source": [
    "# Prediction on new data"
   ]
  },
  {
   "cell_type": "code",
   "execution_count": 73,
   "id": "a794dc7b",
   "metadata": {},
   "outputs": [],
   "source": [
    "new =pd.DataFrame({\n",
    "    'Age': [23,37,56],\n",
    "    'EstimatedSalary': [12000, 67000, 134000]\n",
    "})"
   ]
  },
  {
   "cell_type": "code",
   "execution_count": 74,
   "id": "f78887f2",
   "metadata": {},
   "outputs": [
    {
     "data": {
      "text/html": [
       "<div>\n",
       "<style scoped>\n",
       "    .dataframe tbody tr th:only-of-type {\n",
       "        vertical-align: middle;\n",
       "    }\n",
       "\n",
       "    .dataframe tbody tr th {\n",
       "        vertical-align: top;\n",
       "    }\n",
       "\n",
       "    .dataframe thead th {\n",
       "        text-align: right;\n",
       "    }\n",
       "</style>\n",
       "<table border=\"1\" class=\"dataframe\">\n",
       "  <thead>\n",
       "    <tr style=\"text-align: right;\">\n",
       "      <th></th>\n",
       "      <th>Age</th>\n",
       "      <th>EstimatedSalary</th>\n",
       "    </tr>\n",
       "  </thead>\n",
       "  <tbody>\n",
       "    <tr>\n",
       "      <th>0</th>\n",
       "      <td>23</td>\n",
       "      <td>12000</td>\n",
       "    </tr>\n",
       "    <tr>\n",
       "      <th>1</th>\n",
       "      <td>37</td>\n",
       "      <td>67000</td>\n",
       "    </tr>\n",
       "    <tr>\n",
       "      <th>2</th>\n",
       "      <td>56</td>\n",
       "      <td>134000</td>\n",
       "    </tr>\n",
       "  </tbody>\n",
       "</table>\n",
       "</div>"
      ],
      "text/plain": [
       "   Age  EstimatedSalary\n",
       "0   23            12000\n",
       "1   37            67000\n",
       "2   56           134000"
      ]
     },
     "execution_count": 74,
     "metadata": {},
     "output_type": "execute_result"
    }
   ],
   "source": [
    "new"
   ]
  },
  {
   "cell_type": "code",
   "execution_count": 76,
   "id": "299c992a",
   "metadata": {},
   "outputs": [
    {
     "data": {
      "text/plain": [
       "array([0, 0, 1], dtype=int64)"
      ]
     },
     "execution_count": 76,
     "metadata": {},
     "output_type": "execute_result"
    }
   ],
   "source": [
    "classifier.predict(scaler.transform(new))"
   ]
  },
  {
   "cell_type": "code",
   "execution_count": 77,
   "id": "6e6b585d",
   "metadata": {},
   "outputs": [
    {
     "data": {
      "text/plain": [
       "array([[0.97244977, 0.02755023],\n",
       "       [0.71077655, 0.28922345],\n",
       "       [0.07086465, 0.92913535]])"
      ]
     },
     "execution_count": 77,
     "metadata": {},
     "output_type": "execute_result"
    }
   ],
   "source": [
    "classifier.predict_proba(scaler.transform(new))"
   ]
  },
  {
   "cell_type": "code",
   "execution_count": null,
   "id": "05bb1643",
   "metadata": {},
   "outputs": [],
   "source": []
  }
 ],
 "metadata": {
  "kernelspec": {
   "display_name": "Python 3 (ipykernel)",
   "language": "python",
   "name": "python3"
  },
  "language_info": {
   "codemirror_mode": {
    "name": "ipython",
    "version": 3
   },
   "file_extension": ".py",
   "mimetype": "text/x-python",
   "name": "python",
   "nbconvert_exporter": "python",
   "pygments_lexer": "ipython3",
   "version": "3.10.9"
  }
 },
 "nbformat": 4,
 "nbformat_minor": 5
}
